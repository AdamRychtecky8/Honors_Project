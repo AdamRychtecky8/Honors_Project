{
 "cells": [
  {
   "cell_type": "markdown",
   "id": "2ce96647",
   "metadata": {},
   "source": [
    "# API Trials Runner — Perceptual Blob-in-Noise Dataset\n",
    "\n",
    "This notebook consumes the **calibrated dataset** you created (`allimgs/index.csv` or `perceptual_dataset_calibrated/metadata.csv`) and runs **LLM/VLM API trials**, logging per-trial decisions and **confidence**.\n",
    "\n",
    "**Features**\n",
    "- Works with either `allimgs/index.csv` (flat copy of PNGs) or `perceptual_dataset_calibrated/metadata.csv`.\n",
    "- Supports **vision** (image input) and **text-only** (structured metadata prompt).\n",
    "- **Dry-run mode** for local testing.\n",
    "- Robust **confidence parsing** (1–10 scale) and binarization (1–5 = No, 6–10 = Yes).\n",
    "- Logs to `results/api_trials_results.csv` for later analysis.\n"
   ]
  },
  {
   "cell_type": "code",
   "execution_count": 1,
   "id": "56ce5a32",
   "metadata": {},
   "outputs": [],
   "source": [
    "from pathlib import Path\n",
    "import os, random, pandas as pd\n",
    "\n",
    "# --- INPUTS ---\n",
    "ALLIMGS_INDEX = Path(\"allimgs/index.csv\")\n",
    "METADATA_CSV  = Path(\"perceptual_dataset_calibrated/metadata.csv\")\n",
    "\n",
    "USE_ALLIMGS = ALLIMGS_INDEX.exists()\n",
    "\n",
    "# --- OUTPUTS ---\n",
    "RESULTS_DIR = Path(\"results\"); RESULTS_DIR.mkdir(parents=True, exist_ok=True)\n",
    "RESULTS_CSV = RESULTS_DIR / \"api_trials_results.csv\"\n",
    "\n",
    "# --- RUN MODE ---\n",
    "DRY_RUN = True    # set False to call a real API\n",
    "N_TRIALS = 50     # number of trials to process\n",
    "SHUFFLE  = True\n",
    "\n",
    "# --- MODEL/PROVIDER ---\n",
    "PROVIDER = \"openai\"        # or \"gemini\", \"anthropic\"\n",
    "MODEL_NAME = \"gpt-4o-mini\" # placeholder\n",
    "\n",
    "# --- PROMPT SETTINGS ---\n",
    "SYSTEM_PROMPT = (\n",
    "    \"You are a perceptual decision participant. \"\n",
    "    \"Decide whether a faint Gaussian blob is present in noise. \"\n",
    "    \"Respond with exactly: 'confidence: X' where X is an integer 1–10 \"\n",
    "    \"(1–5 = NO, 6–10 = YES).\"\n",
    ")\n",
    "\n",
    "TEXT_ONLY = False  # If True: structured text prompts instead of sending images\n",
    "random.seed(42)\n"
   ]
  },
  {
   "cell_type": "code",
   "execution_count": 2,
   "id": "03a3c79d",
   "metadata": {},
   "outputs": [
    {
     "name": "stdout",
     "output_type": "stream",
     "text": [
      "Loaded trials: 50\n"
     ]
    },
    {
     "data": {
      "text/html": [
       "<div>\n",
       "<style scoped>\n",
       "    .dataframe tbody tr th:only-of-type {\n",
       "        vertical-align: middle;\n",
       "    }\n",
       "\n",
       "    .dataframe tbody tr th {\n",
       "        vertical-align: top;\n",
       "    }\n",
       "\n",
       "    .dataframe thead th {\n",
       "        text-align: right;\n",
       "    }\n",
       "</style>\n",
       "<table border=\"1\" class=\"dataframe\">\n",
       "  <thead>\n",
       "    <tr style=\"text-align: right;\">\n",
       "      <th></th>\n",
       "      <th>id</th>\n",
       "      <th>condition</th>\n",
       "      <th>label</th>\n",
       "      <th>src</th>\n",
       "      <th>image_path</th>\n",
       "      <th>source</th>\n",
       "    </tr>\n",
       "  </thead>\n",
       "  <tbody>\n",
       "    <tr>\n",
       "      <th>0</th>\n",
       "      <td>1179</td>\n",
       "      <td>weak</td>\n",
       "      <td>present</td>\n",
       "      <td>perceptual_dataset_calibrated/weak/present/com...</td>\n",
       "      <td>allimgs/weak_present_01179.png</td>\n",
       "      <td>allimgs</td>\n",
       "    </tr>\n",
       "    <tr>\n",
       "      <th>1</th>\n",
       "      <td>866</td>\n",
       "      <td>weak</td>\n",
       "      <td>absent</td>\n",
       "      <td>perceptual_dataset_calibrated/weak/absent/comb...</td>\n",
       "      <td>allimgs/weak_absent_00866.png</td>\n",
       "      <td>allimgs</td>\n",
       "    </tr>\n",
       "    <tr>\n",
       "      <th>2</th>\n",
       "      <td>102</td>\n",
       "      <td>equal</td>\n",
       "      <td>absent</td>\n",
       "      <td>perceptual_dataset_calibrated/equal/absent/com...</td>\n",
       "      <td>allimgs/equal_absent_00102.png</td>\n",
       "      <td>allimgs</td>\n",
       "    </tr>\n",
       "    <tr>\n",
       "      <th>3</th>\n",
       "      <td>440</td>\n",
       "      <td>strong</td>\n",
       "      <td>absent</td>\n",
       "      <td>perceptual_dataset_calibrated/strong/absent/co...</td>\n",
       "      <td>allimgs/strong_absent_00440.png</td>\n",
       "      <td>allimgs</td>\n",
       "    </tr>\n",
       "    <tr>\n",
       "      <th>4</th>\n",
       "      <td>59</td>\n",
       "      <td>equal</td>\n",
       "      <td>absent</td>\n",
       "      <td>perceptual_dataset_calibrated/equal/absent/com...</td>\n",
       "      <td>allimgs/equal_absent_00059.png</td>\n",
       "      <td>allimgs</td>\n",
       "    </tr>\n",
       "  </tbody>\n",
       "</table>\n",
       "</div>"
      ],
      "text/plain": [
       "     id condition    label                                                src  \\\n",
       "0  1179      weak  present  perceptual_dataset_calibrated/weak/present/com...   \n",
       "1   866      weak   absent  perceptual_dataset_calibrated/weak/absent/comb...   \n",
       "2   102     equal   absent  perceptual_dataset_calibrated/equal/absent/com...   \n",
       "3   440    strong   absent  perceptual_dataset_calibrated/strong/absent/co...   \n",
       "4    59     equal   absent  perceptual_dataset_calibrated/equal/absent/com...   \n",
       "\n",
       "                        image_path   source  \n",
       "0   allimgs/weak_present_01179.png  allimgs  \n",
       "1    allimgs/weak_absent_00866.png  allimgs  \n",
       "2   allimgs/equal_absent_00102.png  allimgs  \n",
       "3  allimgs/strong_absent_00440.png  allimgs  \n",
       "4   allimgs/equal_absent_00059.png  allimgs  "
      ]
     },
     "execution_count": 2,
     "metadata": {},
     "output_type": "execute_result"
    }
   ],
   "source": [
    "def load_trials():\n",
    "    if USE_ALLIMGS and ALLIMGS_INDEX.exists():\n",
    "        df = pd.read_csv(ALLIMGS_INDEX)\n",
    "        df = df.rename(columns={\"img\": \"image_path\"})\n",
    "        return df.assign(source=\"allimgs\")\n",
    "    elif METADATA_CSV.exists():\n",
    "        df = pd.read_csv(METADATA_CSV)\n",
    "        return df.assign(source=\"metadata\")\n",
    "    else:\n",
    "        raise FileNotFoundError(\"No manifest found.\")\n",
    "\n",
    "trials_df = load_trials()\n",
    "if SHUFFLE:\n",
    "    trials_df = trials_df.sample(frac=1.0, random_state=42).reset_index(drop=True)\n",
    "if N_TRIALS:\n",
    "    trials_df = trials_df.head(N_TRIALS)\n",
    "\n",
    "print(\"Loaded trials:\", len(trials_df))\n",
    "trials_df.head()\n"
   ]
  },
  {
   "cell_type": "code",
   "execution_count": 3,
   "id": "c5c25dcf",
   "metadata": {},
   "outputs": [],
   "source": [
    "import re\n",
    "\n",
    "def parse_confidence(text: str) -> int:\n",
    "    m = re.search(r\"\\b([1-9]|10)\\b\", text)\n",
    "    return int(m.group(1)) if m else None\n",
    "\n",
    "def binarize(conf: int) -> int:\n",
    "    return 1 if conf >= 6 else 0\n",
    "\n",
    "# quick tests\n",
    "assert parse_confidence(\"confidence: 8\") == 8\n",
    "assert binarize(5) == 0 and binarize(6) == 1\n"
   ]
  },
  {
   "cell_type": "code",
   "execution_count": 4,
   "id": "d8645322",
   "metadata": {},
   "outputs": [],
   "source": [
    "from dataclasses import dataclass\n",
    "from time import perf_counter\n",
    "import random\n",
    "\n",
    "@dataclass\n",
    "class ApiResult:\n",
    "    response_text: str\n",
    "    confidence: int\n",
    "    decision: int\n",
    "    latency_sec: float\n",
    "    error: str = \"\"\n",
    "\n",
    "# --- Dry-run simulator ---\n",
    "def dry_run_call(row):\n",
    "    t0 = perf_counter()\n",
    "    is_present = str(row.get(\"label\",\"\")).lower() == \"present\" or str(row.get(\"label\")) == \"1\"\n",
    "    base_conf = 7 if is_present else 4\n",
    "    conf = max(1, min(10, int(random.gauss(base_conf, 1.2))))\n",
    "    txt = f\"confidence: {conf}\"\n",
    "    return ApiResult(txt, conf, binarize(conf), perf_counter()-t0)\n",
    "\n",
    "# --- OpenAI Vision (example; replace with real call when DRY_RUN=False) ---\n",
    "def call_openai(row, system_prompt=SYSTEM_PROMPT, model=MODEL_NAME):\n",
    "    t0 = perf_counter()\n",
    "    try:\n",
    "        # Here you’d call the OpenAI API with image or text\n",
    "        # For now, just simulate\n",
    "        sim = dry_run_call(row)\n",
    "        return sim\n",
    "    except Exception as e:\n",
    "        return ApiResult(\"\", None, None, perf_counter()-t0, error=str(e))\n"
   ]
  },
  {
   "cell_type": "code",
   "execution_count": 5,
   "id": "35b1cc60",
   "metadata": {},
   "outputs": [],
   "source": [
    "def build_textonly_prompt(row):\n",
    "    parts = [\"Perceptual blob-in-noise trial.\"]\n",
    "    if \"condition\" in row: parts.append(f\"Condition: {row['condition']}\")\n",
    "    if \"contrast\" in row:  parts.append(f\"Contrast: {row['contrast']}\")\n",
    "    if \"noise_std\" in row: parts.append(f\"Noise SD: {row['noise_std']}\")\n",
    "    parts.append(\"Respond with 'confidence: X' (1–10).\")\n",
    "    return \"\\n\".join(parts)\n"
   ]
  },
  {
   "cell_type": "code",
   "execution_count": 6,
   "id": "624a3c94",
   "metadata": {},
   "outputs": [
    {
     "name": "stdout",
     "output_type": "stream",
     "text": [
      "Results written to: results/api_trials_results.csv\n"
     ]
    }
   ],
   "source": [
    "import csv\n",
    "\n",
    "def pick_caller():\n",
    "    if DRY_RUN: return dry_run_call\n",
    "    if PROVIDER == \"openai\": return call_openai\n",
    "    return dry_run_call\n",
    "\n",
    "def run_trials(df, results_csv=RESULTS_CSV):\n",
    "    caller = pick_caller()\n",
    "    fieldnames = [\"trial_index\",\"condition\",\"label\",\"image_path\",\n",
    "                  \"source\",\"contrast\",\"noise_std\",\n",
    "                  \"provider\",\"model_name\",\"response_text\",\n",
    "                  \"confidence\",\"decision\",\"latency_sec\"]\n",
    "    mode = \"w\" if not results_csv.exists() else \"a\"\n",
    "    with open(results_csv, mode, newline=\"\") as f:\n",
    "        writer = csv.DictWriter(f, fieldnames=fieldnames)\n",
    "        if mode == \"w\": writer.writeheader()\n",
    "        for i, row in df.iterrows():\n",
    "            res = caller(row)\n",
    "            writer.writerow({\n",
    "                \"trial_index\": row.get(\"trial_index\", i),\n",
    "                \"condition\": row.get(\"condition\"),\n",
    "                \"label\": row.get(\"label\"),\n",
    "                \"image_path\": row.get(\"image_path\"),\n",
    "                \"source\": row.get(\"source\"),\n",
    "                \"contrast\": row.get(\"contrast\"),\n",
    "                \"noise_std\": row.get(\"noise_std\"),\n",
    "                \"provider\": PROVIDER,\n",
    "                \"model_name\": MODEL_NAME,\n",
    "                \"response_text\": res.response_text,\n",
    "                \"confidence\": res.confidence,\n",
    "                \"decision\": res.decision,\n",
    "                \"latency_sec\": f\"{res.latency_sec:.3f}\"\n",
    "            })\n",
    "    return results_csv\n",
    "\n",
    "out_csv = run_trials(trials_df)\n",
    "print(\"Results written to:\", out_csv)\n"
   ]
  },
  {
   "cell_type": "code",
   "execution_count": 7,
   "id": "ddcb13b2",
   "metadata": {},
   "outputs": [
    {
     "name": "stdout",
     "output_type": "stream",
     "text": [
      "   trial_index condition    label                       image_path   source  \\\n",
      "0            0      weak  present   allimgs/weak_present_01179.png  allimgs   \n",
      "1            1      weak   absent    allimgs/weak_absent_00866.png  allimgs   \n",
      "2            2     equal   absent   allimgs/equal_absent_00102.png  allimgs   \n",
      "3            3    strong   absent  allimgs/strong_absent_00440.png  allimgs   \n",
      "4            4     equal   absent   allimgs/equal_absent_00059.png  allimgs   \n",
      "\n",
      "   contrast  noise_std provider   model_name  response_text  confidence  \\\n",
      "0       NaN        NaN   openai  gpt-4o-mini  confidence: 6           6   \n",
      "1       NaN        NaN   openai  gpt-4o-mini  confidence: 3           3   \n",
      "2       NaN        NaN   openai  gpt-4o-mini  confidence: 3           3   \n",
      "3       NaN        NaN   openai  gpt-4o-mini  confidence: 4           4   \n",
      "4       NaN        NaN   openai  gpt-4o-mini  confidence: 3           3   \n",
      "\n",
      "   decision  latency_sec  \n",
      "0         1          0.0  \n",
      "1         0          0.0  \n",
      "2         0          0.0  \n",
      "3         0          0.0  \n",
      "4         0          0.0  \n"
     ]
    },
    {
     "data": {
      "image/png": "[encoded data removed]",
      "text/plain": [
       "<Figure size 640x480 with 1 Axes>"
      ]
     },
     "metadata": {},
     "output_type": "display_data"
    },
    {
     "data": {
      "image/png": "[encoded data removed]",
      "text/plain": [
       "<Figure size 640x480 with 1 Axes>"
      ]
     },
     "metadata": {},
     "output_type": "display_data"
    }
   ],
   "source": [
    "import matplotlib.pyplot as plt\n",
    "\n",
    "res = pd.read_csv(RESULTS_CSV)\n",
    "print(res.head())\n",
    "\n",
    "if \"condition\" in res:\n",
    "    res.groupby(\"condition\")[\"decision\"].mean().plot(kind=\"bar\")\n",
    "    plt.title(\"Proportion YES by condition\"); plt.show()\n",
    "\n",
    "res[\"confidence\"].dropna().astype(int).hist(bins=10)\n",
    "plt.title(\"Confidence Histogram\"); plt.show()\n"
   ]
  }
 ],
 "metadata": {
  "kernelspec": {
   "display_name": "Python 3",
   "language": "python",
   "name": "python3"
  },
  "language_info": {
   "codemirror_mode": {
    "name": "ipython",
    "version": 3
   },
   "file_extension": ".py",
   "mimetype": "text/x-python",
   "name": "python",
   "nbconvert_exporter": "python",
   "pygments_lexer": "ipython3",
   "version": "3.12.1"
  }
 },
 "nbformat": 4,
 "nbformat_minor": 5
}
